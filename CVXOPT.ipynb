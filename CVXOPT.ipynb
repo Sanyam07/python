{
 "cells": [
  {
   "cell_type": "code",
   "execution_count": null,
   "metadata": {},
   "outputs": [],
   "source": [
    "### LINEAR SOLVER  solvers.lp\n",
    "#### Example 1\n",
    "\\begin{array}[t]{ll} \\mbox{minimize} & -4x_1 - 5x_2 \\\\ \\mbox{subject to} & 2x_1 + x_2 \\leq 3 \\\\ & x_1 + 2x_2 \\leq 3 \\\\ & x_1 \\geq 0, \\quad x_2 \\geq 0. \\end{array}"
   ]
  },
  {
   "cell_type": "code",
   "execution_count": null,
   "metadata": {},
   "outputs": [],
   "source": [
    "from cvxopt import matrix, solvers\n",
    "c=matrix([-4.,-5.])\n",
    "G=matrix([[2.,1.,-1.,0],[1.,2.,0,-1.]])\n",
    "h=matrix([3.,3.,0,0])\n",
    "sol=solvers.lp(c,G,h)\n",
    "print(sol['x'])"
   ]
  },
  {
   "cell_type": "code",
   "execution_count": null,
   "metadata": {},
   "outputs": [],
   "source": [
    "### LINEAR SOLVER  solvers.lp\n",
    "#### Example 2\n",
    "\n",
    "\\begin{array}[t]{ll} \\mbox{minimize} & -4x_1 - 5x_2 \\\\ \\mbox{subject to} & 2x_1 + x_2 \\leq 3 \\\\ & x_1 + 2x_2 \\leq 3 \\\\ & x_1 \\geq 0, \\quad x_2 \\geq 0.  \\\\ & 2x_1 + 3x_2 = 4\n",
    "\\end{array}"
   ]
  },
  {
   "cell_type": "code",
   "execution_count": null,
   "metadata": {},
   "outputs": [],
   "source": [
    "from cvxopt import matrix, solvers\n",
    "c=matrix([-4.,-5.])\n",
    "G=matrix([[2.,1.,-1.,0],[1.,2.,0,-1.]])\n",
    "h=matrix([3.,3.,0,0])\n",
    "A=matrix([[2.],[3.]])\n",
    "b=matrix([[4.]])\n",
    "sol=solvers.lp(c,G,h,A,b)\n",
    "print(sol['x'])"
   ]
  },
  {
   "cell_type": "code",
   "execution_count": null,
   "metadata": {},
   "outputs": [],
   "source": [
    "### QUADRATIC SOLVER solvers.qp\n",
    "#### Example 1\n",
    "\n",
    "\n",
    "\\begin{array}[t]{ll} \\mbox{minimize} & (1/2) x^2 + 3x + 4y \\\\ \\mbox{subject to} & x,y \\geq 0 \\\\ & x + 3y \\geq 15 \\\\  & 2x + 5y \\leq 100 \\\\ & 3x + 4y \\leq 80 \\end{array}\n"
   ]
  },
  {
   "cell_type": "code",
   "execution_count": null,
   "metadata": {},
   "outputs": [],
   "source": [
    "from cvxopt import matrix\n",
    "P = matrix([[1.0,0.0],[0.0,0.0]])\n",
    "q = matrix([3.0,4.0])\n",
    "G = matrix([[-1.0,0.0,-1.0,2.0,3.0],[0.0,-1.0,-3.0,5.0,4.0]])\n",
    "h = matrix([0.0,0.0,-15.0,100.0,80.0])\n",
    "sol=solvers.qp(P,q,G,h)\n",
    "print(sol['x'])\n",
    "print(sol['y'])"
   ]
  },
  {
   "cell_type": "code",
   "execution_count": null,
   "metadata": {},
   "outputs": [],
   "source": [
    "### CONE SOLVER solvers.conelp\n",
    "#### Example 1\n",
    "\n",
    "\\begin{array}[t]{ll} \\mbox{minimize} & -6x_1 - 4x_2 - 5x_3  \\\\ \n",
    "\\mbox{subject to} & 16x_1 - 14x_2 + 5x_3 \\leq -3 \\\\ &\n",
    "\\|  [ x_1  x_2  x_3  ] \\|_2 \\leq 10\n",
    "\\end{array}"
   ]
  },
  {
   "cell_type": "code",
   "execution_count": null,
   "metadata": {},
   "outputs": [],
   "source": [
    "from cvxopt import matrix, solvers\n",
    "c = matrix([-6., -4., -5.])\n",
    "G = matrix([[ 16., 7.,  0., -1.,0.,0.],\n",
    "            [-14., 2.,0.,0.,-1.,0.],\n",
    "            [  5., 0., 0.,0.,0.,-1.]])\n",
    "h = matrix( [ -3., 5.,  10., 0.,  0.,  0.] )\n",
    "sol = solvers.conelp(c, G, h)\n",
    "print(sol['x'])"
   ]
  },
  {
   "cell_type": "code",
   "execution_count": null,
   "metadata": {},
   "outputs": [],
   "source": [
    "## PRACTICAL EXAMPLE\n",
    "\n",
    "### Linear Regression : Approach 1\n",
    "\n",
    "\\begin{array}{ll} \\mbox{minimize} & \\|Ax - b\\|_2^2 \\\\ \\mbox{subject to} & x \\succeq 0 \\\\ & \\|x\\|_2 \\leq 1 \\end{array}\n",
    "\n",
    "with\n",
    "\n",
    "\\begin{array}{ll} A = \\begin{bmatrix}  0.3 & 0.6 & -0.3 \\\\ -0.4 & 1.2 & 0.0 \\\\ -0.2 & -1.7 & 0.6 \\\\ -0.4 & 0.3 & -1.2 \\\\ 1.3 & -0.3 & -2.0 \\end{bmatrix} \\end{array}\n",
    " \n",
    " \n",
    "\\begin{array}{ll} b = \\begin{bmatrix}1.5 \\\\ 0.0 \\\\ -1.2 \\\\ -0.7 \\\\ 0.0 \\end{bmatrix} \\end{array}"
   ]
  },
  {
   "cell_type": "code",
   "execution_count": null,
   "metadata": {},
   "outputs": [],
   "source": [
    "A = matrix([ [ .3, -.4,  -.2,  -.4,  1.3 ],\n",
    "                 [ .6, 1.2, -1.7,   .3,  -.3 ],\n",
    "                 [-.3,  .0,   .6, -1.2, -2.0 ] ])\n",
    "b = matrix([ 1.5, .0, -1.2, -.7, .0])\n",
    "m, n = A.size\n",
    "I = matrix(0.0, (n,n))\n",
    "I[::n+1] = 1.0\n",
    "print(I)\n",
    "G = matrix([-I, matrix(0.0, (1,n)), I])\n",
    "print(G)\n",
    "h = matrix(n*[0.0] + [1.0] + n*[0.0])\n",
    "print(h)\n",
    "dims = {'l': n, 'q': [n+1], 's': []}\n",
    "x = solvers.coneqp(A.T*A, -A.T*b, G, h, dims)['x']\n",
    "print(x)"
   ]
  }
 ],
 "metadata": {
  "kernelspec": {
   "display_name": "Python 2",
   "language": "python",
   "name": "python2"
  },
  "language_info": {
   "codemirror_mode": {
    "name": "ipython",
    "version": 2
   },
   "file_extension": ".py",
   "mimetype": "text/x-python",
   "name": "python",
   "nbconvert_exporter": "python",
   "pygments_lexer": "ipython2",
   "version": "2.7.3"
  }
 },
 "nbformat": 4,
 "nbformat_minor": 2
}
