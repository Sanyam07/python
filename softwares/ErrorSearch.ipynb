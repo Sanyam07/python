{
 "cells": [
  {
   "cell_type": "code",
   "execution_count": 73,
   "metadata": {},
   "outputs": [],
   "source": [
    "# My Project Title\n",
    "from IPython.core.magic import register_cell_magic\n",
    "import imp\n",
    "from IPython.display import IFrame\n",
    "from IPython.core.display import HTML\n",
    "\n",
    "\n",
    "getErrorResolution=imp.load_source('getErrorResolution',\"getErrorDetails.py\")\n",
    "\n",
    "@register_cell_magic\n",
    "def handleExceptions(line, cell):\n",
    "    try:\n",
    "        exec(cell)\n",
    "    except Exception as e:\n",
    "        errorMessage=e\n",
    "        resultantSoupData=getErrorResolution.getErrorResolution(e)\n",
    "        display(HTML(resultantSoupData))\n",
    "        #raise "
   ]
  },
  {
   "cell_type": "code",
   "execution_count": 79,
   "metadata": {
    "collapsed": true
   },
   "outputs": [
    {
     "data": {
      "text/html": [
       "<h2> ERROR </h2> </br> <b color='red'> unsupported operand type(s) for +: 'int' and 'str' </b> <h2> SOLUTION </h2> Explicit int to str conversion </br> <h2> Issue Link </h2> </br> <a href='https://stackoverflow.com/questions/20441035/unsupported-operand-types-for-int-and-str'> StackOverflow Link</a>"
      ],
      "text/plain": [
       "<IPython.core.display.HTML object>"
      ]
     },
     "metadata": {},
     "output_type": "display_data"
    }
   ],
   "source": [
    "%%handleExceptions\n",
    "\n",
    "# Initialization\n",
    "var1=1\n",
    "var2='2'\n",
    "print(var1 + var2)"
   ]
  },
  {
   "cell_type": "code",
   "execution_count": 78,
   "metadata": {
    "collapsed": true
   },
   "outputs": [
    {
     "ename": "TypeError",
     "evalue": "unsupported operand type(s) for +: 'int' and 'str'",
     "output_type": "error",
     "traceback": [
      "\u001b[1;31m---------------------------------------------------------------------------\u001b[0m",
      "\u001b[1;31mTypeError\u001b[0m                                 Traceback (most recent call last)",
      "\u001b[1;32m<ipython-input-78-c1450bfa637a>\u001b[0m in \u001b[0;36m<module>\u001b[1;34m\u001b[0m\n\u001b[0;32m      2\u001b[0m \u001b[0mvar1\u001b[0m\u001b[1;33m=\u001b[0m\u001b[1;36m1\u001b[0m\u001b[1;33m\u001b[0m\u001b[1;33m\u001b[0m\u001b[0m\n\u001b[0;32m      3\u001b[0m \u001b[0mvar2\u001b[0m\u001b[1;33m=\u001b[0m\u001b[1;34m'2'\u001b[0m\u001b[1;33m\u001b[0m\u001b[1;33m\u001b[0m\u001b[0m\n\u001b[1;32m----> 4\u001b[1;33m \u001b[0mprint\u001b[0m\u001b[1;33m(\u001b[0m\u001b[0mvar1\u001b[0m \u001b[1;33m+\u001b[0m \u001b[0mvar2\u001b[0m\u001b[1;33m)\u001b[0m\u001b[1;33m\u001b[0m\u001b[1;33m\u001b[0m\u001b[0m\n\u001b[0m",
      "\u001b[1;31mTypeError\u001b[0m: unsupported operand type(s) for +: 'int' and 'str'"
     ]
    }
   ],
   "source": [
    "# Initialization\n",
    "var1=1\n",
    "var2='2'\n",
    "print(var1 + var2)"
   ]
  }
 ],
 "metadata": {
  "kernelspec": {
   "display_name": "Python 3",
   "language": "python",
   "name": "python3"
  },
  "language_info": {
   "codemirror_mode": {
    "name": "ipython",
    "version": 3
   },
   "file_extension": ".py",
   "mimetype": "text/x-python",
   "name": "python",
   "nbconvert_exporter": "python",
   "pygments_lexer": "ipython3",
   "version": "3.6.8"
  }
 },
 "nbformat": 4,
 "nbformat_minor": 2
}
